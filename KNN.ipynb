{
 "cells": [
  {
   "cell_type": "code",
   "execution_count": 1,
   "id": "3910d88e",
   "metadata": {},
   "outputs": [
    {
     "data": {
      "text/html": [
       "<div>\n",
       "<style scoped>\n",
       "    .dataframe tbody tr th:only-of-type {\n",
       "        vertical-align: middle;\n",
       "    }\n",
       "\n",
       "    .dataframe tbody tr th {\n",
       "        vertical-align: top;\n",
       "    }\n",
       "\n",
       "    .dataframe thead th {\n",
       "        text-align: right;\n",
       "    }\n",
       "</style>\n",
       "<table border=\"1\" class=\"dataframe\">\n",
       "  <thead>\n",
       "    <tr style=\"text-align: right;\">\n",
       "      <th></th>\n",
       "      <th>Time</th>\n",
       "      <th>Day</th>\n",
       "      <th>Week</th>\n",
       "      <th>Month</th>\n",
       "      <th>Year</th>\n",
       "      <th>Category</th>\n",
       "    </tr>\n",
       "  </thead>\n",
       "  <tbody>\n",
       "    <tr>\n",
       "      <th>0</th>\n",
       "      <td>0</td>\n",
       "      <td>1</td>\n",
       "      <td>3</td>\n",
       "      <td>1</td>\n",
       "      <td>2022</td>\n",
       "      <td>Sleep</td>\n",
       "    </tr>\n",
       "    <tr>\n",
       "      <th>1</th>\n",
       "      <td>30</td>\n",
       "      <td>1</td>\n",
       "      <td>3</td>\n",
       "      <td>1</td>\n",
       "      <td>2022</td>\n",
       "      <td>Sleep</td>\n",
       "    </tr>\n",
       "    <tr>\n",
       "      <th>2</th>\n",
       "      <td>60</td>\n",
       "      <td>1</td>\n",
       "      <td>3</td>\n",
       "      <td>1</td>\n",
       "      <td>2022</td>\n",
       "      <td>Sleep</td>\n",
       "    </tr>\n",
       "    <tr>\n",
       "      <th>3</th>\n",
       "      <td>90</td>\n",
       "      <td>1</td>\n",
       "      <td>3</td>\n",
       "      <td>1</td>\n",
       "      <td>2022</td>\n",
       "      <td>Sleep</td>\n",
       "    </tr>\n",
       "    <tr>\n",
       "      <th>4</th>\n",
       "      <td>120</td>\n",
       "      <td>1</td>\n",
       "      <td>3</td>\n",
       "      <td>1</td>\n",
       "      <td>2022</td>\n",
       "      <td>Sleep</td>\n",
       "    </tr>\n",
       "  </tbody>\n",
       "</table>\n",
       "</div>"
      ],
      "text/plain": [
       "   Time  Day  Week  Month  Year Category\n",
       "0     0    1     3      1  2022    Sleep\n",
       "1    30    1     3      1  2022    Sleep\n",
       "2    60    1     3      1  2022    Sleep\n",
       "3    90    1     3      1  2022    Sleep\n",
       "4   120    1     3      1  2022    Sleep"
      ]
     },
     "execution_count": 1,
     "metadata": {},
     "output_type": "execute_result"
    }
   ],
   "source": [
    "import pandas as pd\n",
    "df = pd.read_excel('C:\\\\Users\\\\Calvin\\\\Documents\\\\SES_STUDIO\\\\TheoreticalData.xlsx')\n",
    "testdata = pd.read_excel('C:\\\\Users\\\\Calvin\\\\Documents\\\\SES_STUDIO\\\\TestMon.xlsx')\n",
    "df.head()\n"
   ]
  },
  {
   "cell_type": "code",
   "execution_count": 2,
   "id": "fbcad30b",
   "metadata": {},
   "outputs": [
    {
     "data": {
      "text/html": [
       "<div>\n",
       "<style scoped>\n",
       "    .dataframe tbody tr th:only-of-type {\n",
       "        vertical-align: middle;\n",
       "    }\n",
       "\n",
       "    .dataframe tbody tr th {\n",
       "        vertical-align: top;\n",
       "    }\n",
       "\n",
       "    .dataframe thead th {\n",
       "        text-align: right;\n",
       "    }\n",
       "</style>\n",
       "<table border=\"1\" class=\"dataframe\">\n",
       "  <thead>\n",
       "    <tr style=\"text-align: right;\">\n",
       "      <th></th>\n",
       "      <th>count</th>\n",
       "      <th>mean</th>\n",
       "      <th>std</th>\n",
       "      <th>min</th>\n",
       "      <th>25%</th>\n",
       "      <th>50%</th>\n",
       "      <th>75%</th>\n",
       "      <th>max</th>\n",
       "    </tr>\n",
       "  </thead>\n",
       "  <tbody>\n",
       "    <tr>\n",
       "      <th>Time</th>\n",
       "      <td>1680.0</td>\n",
       "      <td>705.000000</td>\n",
       "      <td>415.725719</td>\n",
       "      <td>0.0</td>\n",
       "      <td>352.5</td>\n",
       "      <td>705.0</td>\n",
       "      <td>1057.5</td>\n",
       "      <td>1410.0</td>\n",
       "    </tr>\n",
       "    <tr>\n",
       "      <th>Day</th>\n",
       "      <td>1680.0</td>\n",
       "      <td>3.000000</td>\n",
       "      <td>2.000596</td>\n",
       "      <td>0.0</td>\n",
       "      <td>1.0</td>\n",
       "      <td>3.0</td>\n",
       "      <td>5.0</td>\n",
       "      <td>6.0</td>\n",
       "    </tr>\n",
       "    <tr>\n",
       "      <th>Week</th>\n",
       "      <td>1680.0</td>\n",
       "      <td>5.285714</td>\n",
       "      <td>1.485057</td>\n",
       "      <td>3.0</td>\n",
       "      <td>4.0</td>\n",
       "      <td>5.0</td>\n",
       "      <td>7.0</td>\n",
       "      <td>8.0</td>\n",
       "    </tr>\n",
       "    <tr>\n",
       "      <th>Month</th>\n",
       "      <td>1680.0</td>\n",
       "      <td>1.600000</td>\n",
       "      <td>0.490044</td>\n",
       "      <td>1.0</td>\n",
       "      <td>1.0</td>\n",
       "      <td>2.0</td>\n",
       "      <td>2.0</td>\n",
       "      <td>2.0</td>\n",
       "    </tr>\n",
       "    <tr>\n",
       "      <th>Year</th>\n",
       "      <td>1680.0</td>\n",
       "      <td>2022.000000</td>\n",
       "      <td>0.000000</td>\n",
       "      <td>2022.0</td>\n",
       "      <td>2022.0</td>\n",
       "      <td>2022.0</td>\n",
       "      <td>2022.0</td>\n",
       "      <td>2022.0</td>\n",
       "    </tr>\n",
       "  </tbody>\n",
       "</table>\n",
       "</div>"
      ],
      "text/plain": [
       "        count         mean         std     min     25%     50%     75%     max\n",
       "Time   1680.0   705.000000  415.725719     0.0   352.5   705.0  1057.5  1410.0\n",
       "Day    1680.0     3.000000    2.000596     0.0     1.0     3.0     5.0     6.0\n",
       "Week   1680.0     5.285714    1.485057     3.0     4.0     5.0     7.0     8.0\n",
       "Month  1680.0     1.600000    0.490044     1.0     1.0     2.0     2.0     2.0\n",
       "Year   1680.0  2022.000000    0.000000  2022.0  2022.0  2022.0  2022.0  2022.0"
      ]
     },
     "execution_count": 2,
     "metadata": {},
     "output_type": "execute_result"
    }
   ],
   "source": [
    "x=df.drop(['Category'], axis = 1)\n",
    "y=df['Category']\n",
    "x2 = testdata.drop(['Category'], axis = 1)\n",
    "df.describe().T\n"
   ]
  },
  {
   "cell_type": "code",
   "execution_count": 3,
   "id": "742119e2",
   "metadata": {},
   "outputs": [],
   "source": [
    "from sklearn.model_selection import train_test_split\n",
    "X_train, X_test, y_train, y_test = train_test_split(x, y, test_size=0.20, random_state=13)\n",
    "\n",
    "\n",
    "from sklearn.preprocessing import StandardScaler\n",
    "scaler = StandardScaler()\n",
    "scaler.fit(X_train)\n",
    "\n",
    "X_train = scaler.transform(X_train)\n",
    "X_test = scaler.transform(X_test)"
   ]
  },
  {
   "cell_type": "code",
   "execution_count": 18,
   "id": "b345f926-f80a-4d99-9b31-53fa22cd8790",
   "metadata": {},
   "outputs": [
    {
     "name": "stdout",
     "output_type": "stream",
     "text": [
      "['Leisure' 'Blank' 'Work' 'Sleep' 'Leisure' 'Sleep' 'Work' 'Education'\n",
      " 'Sleep' 'Leisure' 'Blank' 'Leisure' 'Work' 'Blank' 'Education' 'Sleep'\n",
      " 'Sleep' 'Sleep' 'Work' 'Sleep' 'Sleep' 'Blank' 'Sleep' 'Blank' 'Sleep'\n",
      " 'Work' 'Leisure' 'Work' 'Work' 'Leisure' 'Blank' 'Sleep' 'Blank'\n",
      " 'Leisure' 'Sleep' 'Education' 'Work' 'Sleep' 'Blank' 'Blank' 'Blank'\n",
      " 'Work' 'Work' 'Work' 'Work' 'Work' 'Leisure' 'Leisure' 'Sleep' 'Sleep'\n",
      " 'Blank' 'Sleep' 'Sleep' 'Work' 'Work' 'Sleep' 'Leisure' 'Blank' 'Sleep'\n",
      " 'Sleep' 'Leisure' 'Work' 'Leisure' 'Leisure' 'Leisure' 'Sleep' 'Work'\n",
      " 'Work' 'Work' 'Sleep' 'Leisure' 'Leisure' 'Work' 'Leisure' 'Sleep'\n",
      " 'Leisure' 'Sleep' 'Sleep' 'Sleep' 'Leisure' 'Work' 'Sleep' 'Blank'\n",
      " 'Sleep' 'Work' 'Sleep' 'Sleep' 'Sleep' 'Sleep' 'Work' 'Blank' 'Blank'\n",
      " 'Blank' 'Work' 'Blank' 'Sleep' 'Sleep' 'Work' 'Blank' 'Blank' 'Sleep'\n",
      " 'Leisure' 'Blank' 'Work' 'Sleep' 'Work' 'Work' 'Sleep' 'Sleep' 'Sleep'\n",
      " 'Sleep' 'Work' 'Work' 'Blank' 'Sleep' 'Sleep' 'Leisure' 'Work' 'Blank'\n",
      " 'Sleep' 'Sleep' 'Work' 'Work' 'Leisure' 'Sleep' 'Leisure' 'Work' 'Work'\n",
      " 'Sleep' 'Education' 'Work' 'Work' 'Sleep' 'Sleep' 'Work' 'Work' 'Work'\n",
      " 'Leisure' 'Blank' 'Sleep' 'Leisure' 'Work' 'Leisure' 'Work' 'Sleep'\n",
      " 'Blank' 'Sleep' 'Work' 'Leisure' 'Work' 'Blank' 'Education' 'Work'\n",
      " 'Sleep' 'Leisure' 'Work' 'Sleep' 'Education' 'Work' 'Work' 'Sleep'\n",
      " 'Leisure' 'Work' 'Blank' 'Work' 'Sleep' 'Blank' 'Sleep' 'Education'\n",
      " 'Blank' 'Leisure' 'Sleep' 'Leisure' 'Leisure' 'Work' 'Work' 'Work'\n",
      " 'Sleep' 'Leisure' 'Education' 'Sleep' 'Leisure' 'Sleep' 'Leisure'\n",
      " 'Education' 'Leisure' 'Sleep' 'Work' 'Sleep' 'Leisure' 'Sleep' 'Sleep'\n",
      " 'Sleep' 'Blank' 'Education' 'Sleep' 'Work' 'Work' 'Leisure' 'Blank'\n",
      " 'Work' 'Sleep' 'Education' 'Work' 'Blank' 'Sleep' 'Leisure' 'Leisure'\n",
      " 'Sleep' 'Education' 'Work' 'Sleep' 'Leisure' 'Work' 'Blank' 'Work'\n",
      " 'Sleep' 'Education' 'Leisure' 'Sleep' 'Sleep' 'Sleep' 'Sleep' 'Work'\n",
      " 'Work' 'Sleep' 'Work' 'Work' 'Work' 'Sleep' 'Sleep' 'Blank' 'Sleep'\n",
      " 'Sleep' 'Sleep' 'Work' 'Sleep' 'Leisure' 'Leisure' 'Blank' 'Sleep'\n",
      " 'Sleep' 'Blank' 'Work' 'Sleep' 'Work' 'Sleep' 'Education' 'Sleep' 'Blank'\n",
      " 'Leisure' 'Education' 'Education' 'Work' 'Sleep' 'Work' 'Leisure' 'Work'\n",
      " 'Leisure' 'Work' 'Sleep' 'Sleep' 'Sleep' 'Leisure' 'Sleep' 'Blank'\n",
      " 'Sleep' 'Work' 'Sleep' 'Sleep' 'Work' 'Sleep' 'Blank' 'Sleep' 'Work'\n",
      " 'Work' 'Sleep' 'Leisure' 'Work' 'Sleep' 'Education' 'Work' 'Leisure'\n",
      " 'Sleep' 'Sleep' 'Blank' 'Sleep' 'Sleep' 'Sleep' 'Leisure' 'Blank' 'Sleep'\n",
      " 'Sleep' 'Education' 'Education' 'Leisure' 'Leisure' 'Education'\n",
      " 'Education' 'Sleep' 'Sleep' 'Leisure' 'Blank' 'Work' 'Leisure' 'Sleep'\n",
      " 'Work' 'Blank' 'Blank' 'Sleep' 'Work' 'Work' 'Leisure' 'Sleep' 'Blank'\n",
      " 'Work' 'Work' 'Education' 'Work' 'Sleep' 'Sleep' 'Blank' 'Work' 'Work'\n",
      " 'Leisure' 'Blank' 'Leisure' 'Leisure' 'Blank' 'Leisure' 'Work' 'Sleep'\n",
      " 'Work' 'Leisure' 'Education' 'Sleep']\n"
     ]
    }
   ],
   "source": [
    "from sklearn.neighbors import KNeighborsClassifier\n",
    "classifier = KNeighborsClassifier(n_neighbors=20)\n",
    "classifier.fit(X_train, y_train)\n",
    "y_pred = classifier.predict(X_test)\n",
    "print(y_pred)"
   ]
  },
  {
   "cell_type": "code",
   "execution_count": 5,
   "id": "74c18a94",
   "metadata": {},
   "outputs": [
    {
     "data": {
      "text/plain": [
       "0.8244047619047619"
      ]
     },
     "execution_count": 5,
     "metadata": {},
     "output_type": "execute_result"
    }
   ],
   "source": [
    "classifier.score(X_test, y_test)"
   ]
  },
  {
   "cell_type": "code",
   "execution_count": 19,
   "id": "676916be",
   "metadata": {},
   "outputs": [
    {
     "name": "stdout",
     "output_type": "stream",
     "text": [
      "['Sleep' 'Sleep' 'Sleep' 'Sleep' 'Sleep' 'Sleep' 'Sleep' 'Sleep' 'Sleep'\n",
      " 'Sleep' 'Sleep' 'Sleep' 'Sleep' 'Sleep' 'Sleep' 'Sleep' 'Blank' 'Work'\n",
      " 'Work' 'Work' 'Work' 'Work' 'Work' 'Work' 'Work' 'Work' 'Work' 'Work'\n",
      " 'Work' 'Work' 'Work' 'Work' 'Work' 'Work' 'Blank' 'Blank' 'Blank' 'Blank'\n",
      " 'Blank' 'Blank' 'Blank' 'Blank' 'Blank' 'Blank' 'Blank' 'Blank' 'Blank'\n",
      " 'Blank']\n",
      "[0. 0. 0. 0. 0. 1. 0.]\n",
      "[0. 0. 0. 0. 0. 1. 0.]\n",
      "[0. 0. 0. 0. 0. 1. 0.]\n",
      "[0. 0. 0. 0. 0. 1. 0.]\n",
      "[0. 0. 0. 0. 0. 1. 0.]\n",
      "[0. 0. 0. 0. 0. 1. 0.]\n",
      "[0. 0. 0. 0. 0. 1. 0.]\n",
      "[0. 0. 0. 0. 0. 1. 0.]\n",
      "[0.05 0.   0.   0.   0.   0.95 0.  ]\n",
      "[0.1 0.  0.  0.  0.  0.9 0. ]\n",
      "[0.15 0.   0.   0.   0.   0.85 0.  ]\n",
      "[0.15 0.   0.   0.   0.   0.85 0.  ]\n",
      "[0.2  0.   0.   0.   0.   0.75 0.05]\n",
      "[0.25 0.   0.   0.   0.   0.65 0.1 ]\n",
      "[0.3  0.   0.   0.   0.   0.55 0.15]\n",
      "[0.35 0.   0.   0.   0.   0.4  0.25]\n",
      "[0.35 0.   0.   0.   0.   0.35 0.3 ]\n",
      "[0.35 0.   0.   0.   0.   0.2  0.45]\n",
      "[0.35 0.   0.   0.   0.   0.1  0.55]\n",
      "[0.2  0.   0.   0.   0.   0.05 0.75]\n",
      "[0.15 0.   0.   0.   0.   0.05 0.8 ]\n",
      "[0.15 0.   0.   0.   0.   0.   0.85]\n",
      "[0.15 0.   0.   0.   0.   0.   0.85]\n",
      "[0.05 0.   0.   0.   0.   0.   0.95]\n",
      "[0. 0. 0. 0. 0. 0. 1.]\n",
      "[0. 0. 0. 0. 0. 0. 1.]\n",
      "[0. 0. 0. 0. 0. 0. 1.]\n",
      "[0. 0. 0. 0. 0. 0. 1.]\n",
      "[0.05 0.   0.   0.   0.   0.   0.95]\n",
      "[0.05 0.   0.05 0.   0.   0.   0.9 ]\n",
      "[0.05 0.   0.1  0.   0.   0.   0.85]\n",
      "[0.15 0.   0.1  0.   0.   0.   0.75]\n",
      "[0.2  0.   0.15 0.   0.   0.   0.65]\n",
      "[0.3  0.   0.15 0.   0.   0.   0.55]\n",
      "[0.45 0.   0.15 0.   0.   0.   0.4 ]\n",
      "[0.55 0.   0.15 0.   0.   0.   0.3 ]\n",
      "[0.55 0.05 0.15 0.   0.   0.   0.25]\n",
      "[0.65 0.05 0.15 0.   0.   0.   0.15]\n",
      "[0.65 0.05 0.15 0.   0.05 0.   0.1 ]\n",
      "[0.65 0.05 0.1  0.   0.1  0.   0.1 ]\n",
      "[0.7  0.   0.1  0.   0.1  0.05 0.05]\n",
      "[0.65 0.   0.1  0.   0.15 0.1  0.  ]\n",
      "[0.55 0.05 0.1  0.   0.2  0.1  0.  ]\n",
      "[0.55 0.05 0.05 0.   0.2  0.15 0.  ]\n",
      "[0.55 0.   0.   0.   0.25 0.2  0.  ]\n",
      "[0.5  0.   0.   0.   0.25 0.25 0.  ]\n",
      "[0.4 0.  0.  0.  0.3 0.3 0. ]\n",
      "[0.4 0.  0.  0.  0.3 0.3 0. ]\n"
     ]
    }
   ],
   "source": [
    "scaler.fit(x2)\n",
    "\n",
    "x2 = scaler.transform(x2)\n",
    "y2_pred = classifier.predict(x2)\n",
    "print(y2_pred)\n",
    "for x in classifier.predict_proba(x2):\n",
    "    print(x)"
   ]
  },
  {
   "cell_type": "code",
   "execution_count": 7,
   "id": "0793d1df",
   "metadata": {},
   "outputs": [
    {
     "name": "stdout",
     "output_type": "stream",
     "text": [
      "              precision    recall  f1-score   support\n",
      "\n",
      "       Blank       0.45      0.55      0.50        47\n",
      "   Education       0.90      0.79      0.84        33\n",
      "     Fitness       0.38      0.33      0.35         9\n",
      "     Leisure       0.90      0.88      0.89        51\n",
      "       Sleep       0.95      0.94      0.94       112\n",
      "        Work       0.90      0.86      0.88        84\n",
      "\n",
      "    accuracy                           0.82       336\n",
      "   macro avg       0.74      0.73      0.73       336\n",
      "weighted avg       0.84      0.82      0.83       336\n",
      "\n",
      "[[ 26   2   5   2   5   7]\n",
      " [  6  26   0   0   0   1]\n",
      " [  6   0   3   0   0   0]\n",
      " [  4   1   0  45   1   0]\n",
      " [  4   0   0   3 105   0]\n",
      " [ 12   0   0   0   0  72]]\n"
     ]
    }
   ],
   "source": [
    "from sklearn.metrics import classification_report, confusion_matrix\n",
    "print(classification_report(y_test, y_pred))\n",
    "print(confusion_matrix(y_test, y_pred))"
   ]
  },
  {
   "cell_type": "code",
   "execution_count": 8,
   "id": "35f43739",
   "metadata": {},
   "outputs": [
    {
     "name": "stdout",
     "output_type": "stream",
     "text": [
      "Max element from Numpy Array :  0.8244047619047619\n"
     ]
    }
   ],
   "source": [
    "import numpy as np\n",
    "error = []\n",
    "from sklearn.metrics import mean_absolute_error\n",
    "for i in range(1, 40):\n",
    "    knn = KNeighborsClassifier(n_neighbors=i)\n",
    "    knn.fit(X_train, y_train)\n",
    "    pred_i = knn.predict(X_test)\n",
    "    mae = knn.score(X_test, y_test)\n",
    "    error.append(mae)\n",
    "\n",
    "maxElement = np.amax(error)\n",
    "print('Max element from Numpy Array : ', maxElement)"
   ]
  },
  {
   "cell_type": "code",
   "execution_count": 9,
   "id": "eee35034",
   "metadata": {},
   "outputs": [
    {
     "data": {
      "text/plain": [
       "Text(0, 0.5, 'Mean Absolute Error')"
      ]
     },
     "execution_count": 9,
     "metadata": {},
     "output_type": "execute_result"
    },
    {
     "data": {
      "image/png": "[encoded data removed]",
      "text/plain": [
       "<Figure size 1200x600 with 1 Axes>"
      ]
     },
     "metadata": {},
     "output_type": "display_data"
    }
   ],
   "source": [
    "import matplotlib.pyplot as plt \n",
    "\n",
    "plt.figure(figsize=(12, 6))\n",
    "plt.plot(range(1, 40), error, color='red', \n",
    "         linestyle='dashed', marker='o',\n",
    "         markerfacecolor='blue', markersize=10)\n",
    "         \n",
    "plt.title('K Value MAE')\n",
    "plt.xlabel('K Value')\n",
    "plt.ylabel('Mean Absolute Error')"
   ]
  },
  {
   "cell_type": "code",
   "execution_count": 10,
   "id": "87b62bc6",
   "metadata": {},
   "outputs": [
    {
     "name": "stdout",
     "output_type": "stream",
     "text": [
      "Requirement already satisfied: matplotlib in c:\\users\\calvin\\appdata\\local\\packages\\pythonsoftwarefoundation.python.3.10_qbz5n2kfra8p0\\localcache\\local-packages\\python310\\site-packages (3.5.3)\n",
      "Requirement already satisfied: numpy>=1.17 in c:\\users\\calvin\\appdata\\local\\packages\\pythonsoftwarefoundation.python.3.10_qbz5n2kfra8p0\\localcache\\local-packages\\python310\\site-packages (from matplotlib) (1.23.2)\n",
      "Requirement already satisfied: python-dateutil>=2.7 in c:\\users\\calvin\\appdata\\local\\packages\\pythonsoftwarefoundation.python.3.10_qbz5n2kfra8p0\\localcache\\local-packages\\python310\\site-packages (from matplotlib) (2.8.2)\n",
      "Requirement already satisfied: kiwisolver>=1.0.1 in c:\\users\\calvin\\appdata\\local\\packages\\pythonsoftwarefoundation.python.3.10_qbz5n2kfra8p0\\localcache\\local-packages\\python310\\site-packages (from matplotlib) (1.4.4)\n",
      "Requirement already satisfied: packaging>=20.0 in c:\\users\\calvin\\appdata\\local\\packages\\pythonsoftwarefoundation.python.3.10_qbz5n2kfra8p0\\localcache\\local-packages\\python310\\site-packages (from matplotlib) (21.3)\n",
      "Requirement already satisfied: cycler>=0.10 in c:\\users\\calvin\\appdata\\local\\packages\\pythonsoftwarefoundation.python.3.10_qbz5n2kfra8p0\\localcache\\local-packages\\python310\\site-packages (from matplotlib) (0.11.0)\n",
      "Requirement already satisfied: pyparsing>=2.2.1 in c:\\users\\calvin\\appdata\\local\\packages\\pythonsoftwarefoundation.python.3.10_qbz5n2kfra8p0\\localcache\\local-packages\\python310\\site-packages (from matplotlib) (3.0.9)\n",
      "Requirement already satisfied: pillow>=6.2.0 in c:\\users\\calvin\\appdata\\local\\packages\\pythonsoftwarefoundation.python.3.10_qbz5n2kfra8p0\\localcache\\local-packages\\python310\\site-packages (from matplotlib) (9.2.0)\n",
      "Requirement already satisfied: fonttools>=4.22.0 in c:\\users\\calvin\\appdata\\local\\packages\\pythonsoftwarefoundation.python.3.10_qbz5n2kfra8p0\\localcache\\local-packages\\python310\\site-packages (from matplotlib) (4.37.1)\n",
      "Requirement already satisfied: six>=1.5 in c:\\users\\calvin\\appdata\\local\\packages\\pythonsoftwarefoundation.python.3.10_qbz5n2kfra8p0\\localcache\\local-packages\\python310\\site-packages (from python-dateutil>=2.7->matplotlib) (1.16.0)\n"
     ]
    }
   ],
   "source": [
    "import sys\n",
    "!{sys.executable} -m pip install matplotlib"
   ]
  }
 ],
 "metadata": {
  "kernelspec": {
   "display_name": "Python 3 (ipykernel)",
   "language": "python",
   "name": "python3"
  },
  "language_info": {
   "codemirror_mode": {
    "name": "ipython",
    "version": 3
   },
   "file_extension": ".py",
   "mimetype": "text/x-python",
   "name": "python",
   "nbconvert_exporter": "python",
   "pygments_lexer": "ipython3",
   "version": "3.10.6"
  }
 },
 "nbformat": 4,
 "nbformat_minor": 5
}
